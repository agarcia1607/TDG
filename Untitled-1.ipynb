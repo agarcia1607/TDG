{
 "cells": [
  {
   "cell_type": "markdown",
   "id": "41fb05de",
   "metadata": {},
   "source": [
    "*Dilema exploración-explotación*"
   ]
  },
  {
   "cell_type": "markdown",
   "id": "aed9a9e3",
   "metadata": {},
   "source": [
    "Supongamos el siguiente problema:\n",
    "Estamos en una feria y un mago aparece para proponernos un juego.\n",
    "\n",
    "El juego consiste en lo siguiente:\n",
    "Delante de nosotros hay una mesa con vasitos de diferentes colores. El mago nos dice que, al elegir un vasito, se nos dará una recompensa, y nuestro trabajo es obtener la mayor cantidad de recompensas posible.\n",
    "\n",
    "El juego se repite durante 100 rondas."
   ]
  },
  {
   "cell_type": "markdown",
   "id": "08e4887e",
   "metadata": {},
   "source": [
    "¿Como procedemos a jugar? ¿Que estrategia usamos?.\n",
    "Supongamos el caso más sencillo de todos. Los vasitos siempre dan la misma recompensa.\n",
    "En ese caso podemos simplemente probar todos los vasitos y quedarnos con el mejor de ahi en adelante."
   ]
  },
  {
   "cell_type": "markdown",
   "id": "d7070db7",
   "metadata": {},
   "source": [
    "Empecemos definiendo nuestra clase vasitos, con los siguientes atributos color, recompensa y un id.\n",
    "Además de algunos metodos que nos son de utilidad (por ahora dar recompensa simplemente)"
   ]
  },
  {
   "cell_type": "code",
   "execution_count": 1,
   "id": "a0d9f443",
   "metadata": {},
   "outputs": [],
   "source": [
    "class Vasito:\n",
    "    def __init__(self, color: str, reward: float, vid: int = None):\n",
    "        self.color = color\n",
    "        self.reward = reward\n",
    "        self.id = vid\n",
    "        self.history = []\n",
    "\n",
    "    def dar_recompensa(self) -> float:\n",
    "        self.history.append(self.reward)\n",
    "        return self.reward\n",
    "\n",
    "    def cambiar_recompensa(self, nueva: float):\n",
    "        self.reward = nueva\n",
    "\n",
    "    def __repr__(self):\n",
    "        return f\"Vasito(color={self.color}, reward={self.reward})\"\n"
   ]
  },
  {
   "cell_type": "markdown",
   "id": "1378091a",
   "metadata": {},
   "source": [
    "Ahora instanciemos 5 vasitos para simular nuestro juego."
   ]
  },
  {
   "cell_type": "code",
   "execution_count": null,
   "id": "c95b065e",
   "metadata": {},
   "outputs": [
    {
     "data": {
      "text/plain": [
       "5"
      ]
     },
     "execution_count": 3,
     "metadata": {},
     "output_type": "execute_result"
    }
   ],
   "source": [
    "vasito_rojo=Vasito(\"rojo\",6,1)\n",
    "vasito_verde=Vasito(\"verde\",4,2)\n",
    "vasito_naranja=Vasito(\"naranja\",1,3)\n",
    "vasito_negro=Vasito(\"negro\",5,4)\n"
   ]
  },
  {
   "cell_type": "code",
   "execution_count": null,
   "id": "70454bce",
   "metadata": {},
   "outputs": [],
   "source": []
  },
  {
   "cell_type": "code",
   "execution_count": null,
   "id": "fb3a8f5f",
   "metadata": {},
   "outputs": [],
   "source": []
  }
 ],
 "metadata": {
  "kernelspec": {
   "display_name": "base",
   "language": "python",
   "name": "python3"
  },
  "language_info": {
   "codemirror_mode": {
    "name": "ipython",
    "version": 3
   },
   "file_extension": ".py",
   "mimetype": "text/x-python",
   "name": "python",
   "nbconvert_exporter": "python",
   "pygments_lexer": "ipython3",
   "version": "3.9.16"
  }
 },
 "nbformat": 4,
 "nbformat_minor": 5
}
